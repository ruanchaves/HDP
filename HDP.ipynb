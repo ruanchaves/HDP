{
 "cells": [
  {
   "cell_type": "code",
   "execution_count": 9,
   "metadata": {},
   "outputs": [],
   "source": [
    "#settings\n",
    "\n",
    "THRESHOLD = 0.01\n",
    "TOKEN_LENGTH = 300\n",
    "JSON_FILE = 'database.json'\n",
    "DICT_NAME = 'vedabase.dict'\n",
    "\n",
    "#imports\n",
    "\n",
    "import os\n",
    "import subprocess\n",
    "import pandas as pd\n",
    "\n",
    "from nltk import word_tokenize\n",
    "from nltk.stem.porter import PorterStemmer\n",
    "from nltk.stem.wordnet import WordNetLemmatizer\n",
    "from nltk import FreqDist\n",
    "\n",
    "import re\n",
    "import string\n",
    "\n",
    "import json\n",
    "\n",
    "#preprocessing\n",
    "\n",
    "def preprocessing():\n",
    "    files = list(filter((lambda x: x), [x if 'txt' in x else None for x in os.listdir()]))\n",
    "\n",
    "    documents = []\n",
    "    \n",
    "    for line,fname in enumerate(files):\n",
    "        with open(fname,'r') as f:\n",
    "            txt = f.read().split('\\n')\n",
    "        \n",
    "        # tokenize\n",
    "        txt = [word_tokenize(line) for line in txt]\n",
    "    \n",
    "        # remove punctuation\n",
    "        pattern = re.compile('[{}]'.format(re.escape(string.punctuation)))\n",
    "        for i in range(len(txt)):\n",
    "            txt[i] = list(filter(None, [pattern.sub('',token) for token in txt[i]]))\n",
    "    \n",
    "        #lowercase\n",
    "        for i in range(len(txt)):\n",
    "            txt[i] = [ x.lower() for x in txt[i] ]\n",
    "    \n",
    "        #remove stopwords\n",
    "        sw = nltk.corpus.stopwords.words('english')\n",
    "        for i in range(len(txt)):\n",
    "            txt[i] = [w for w in txt[i] if not w in sw]\n",
    "    \n",
    "        #stemmer\n",
    "        s = PorterStemmer()\n",
    "        for i in range(len(txt)):\n",
    "            txt[i] = [ s.stem(w) for w in txt[i] ]\n",
    "        \n",
    "        #lemmatizer\n",
    "        l = WordNetLemmatizer()\n",
    "        for i in range(len(txt)):\n",
    "            txt[i] = [l.lemmatize(w) for w in txt[i]]\n",
    "        \n",
    "        #eliminate most frequent words\n",
    "        all_words = [word for item in txt for word in item]\n",
    "        fdist = FreqDist(all_words)\n",
    "        sw = fdist.most_common(int(len(fdist) * THRESHOLD) )\n",
    "        sw = [x[0] for x in sw]\n",
    "        for i in range(len(txt)):\n",
    "            txt[i] = [w for w in txt[i] if not w in sw]\n",
    "        \n",
    "        #fit lines to minimum token length\n",
    "        all_words = [word for item in txt for word in item]\n",
    "        txt_tokenized = [all_words[x:x+TOKEN_LENGTH] for x in range(0,len(all_words),TOKEN_LENGTH) ]\n",
    "    \n",
    "        #add line labels\n",
    "        counter = 0\n",
    "        labels = []\n",
    "        for line in txt:\n",
    "            counter += len(line)\n",
    "            labels.append(counter // TOKEN_LENGTH)\n",
    "    \n",
    "        past_labels = [0] + labels[0:len(labels)-1]\n",
    "        labels = list(zip(past_labels, labels))\n",
    "    \n",
    "        documents.append({\n",
    "            'labels' : labels,\n",
    "            'tokens' : txt_tokenized,\n",
    "            'source' : fname\n",
    "        })\n",
    "    \n",
    "    with open(JSON_FILE,'w') as f:\n",
    "        json.dump(documents,f)\n",
    "        \n",
    "    return\n",
    "\n",
    "#preprocessing()"
   ]
  },
  {
   "cell_type": "code",
   "execution_count": 10,
   "metadata": {},
   "outputs": [],
   "source": [
    "from gensim import corpora\n",
    "\n",
    "with open(JSON_FILE,'r') as f:\n",
    "    db = json.load(f)\n",
    "    "
   ]
  },
  {
   "cell_type": "code",
   "execution_count": 11,
   "metadata": {},
   "outputs": [],
   "source": [
    "texts = []\n",
    "for dct in db:\n",
    "    texts += dct['tokens']\n",
    "    \n",
    "dictionary = corpora.Dictionary(texts)\n",
    "dictionary.save(DICT_NAME)"
   ]
  },
  {
   "cell_type": "code",
   "execution_count": 12,
   "metadata": {},
   "outputs": [],
   "source": [
    "corpus = [dictionary.doc2bow(text) for text in texts]"
   ]
  },
  {
   "cell_type": "code",
   "execution_count": 14,
   "metadata": {},
   "outputs": [],
   "source": [
    "from gensim.models.hdpmodel import HdpModel\n",
    "\n",
    "hdp_model = HdpModel(corpus,dictionary)\n",
    "lda_model = hdp_model.suggested_lda_model()"
   ]
  },
  {
   "cell_type": "code",
   "execution_count": 34,
   "metadata": {},
   "outputs": [],
   "source": [
    "topic_vectors = []\n",
    "\n",
    "for vec in lda_model[corpus]:\n",
    "    distribution = [0.0] * 150\n",
    "    for tup in vec:\n",
    "        distribution[tup[0]] = tup[1]\n",
    "    topic_vectors.append(distribution)"
   ]
  },
  {
   "cell_type": "code",
   "execution_count": 36,
   "metadata": {},
   "outputs": [
    {
     "name": "stdout",
     "output_type": "stream",
     "text": [
      "35406\n",
      "35406\n"
     ]
    }
   ],
   "source": [
    "topic_labels = []\n",
    "for idx,dct in enumerate(db):\n",
    "    for d_idx, d in enumerate(dct['tokens']):\n",
    "        topic_labels.append((d_idx, idx))\n",
    "\n",
    "topic_vectors = list(zip(topic_labels,topic_vectors))\n"
   ]
  },
  {
   "cell_type": "code",
   "execution_count": 45,
   "metadata": {},
   "outputs": [],
   "source": [
    "from annoy import AnnoyIndex\n",
    "import random\n",
    "\n",
    "ANN_FILE = 'test.ann'\n",
    "\n",
    "nearest_neighbors = []\n",
    "vec = [x[1] for x in topic_vectors]\n",
    "\n",
    "f = len(vec[0])\n",
    "\n",
    "def build_ann():\n",
    "    t = AnnoyIndex(f)  # Length of item vector that will be indexed\n",
    "    for i in range(len(vec)):\n",
    "        t.add_item(i, vec[i])\n",
    "    t.build(2000)\n",
    "    t.save(ANN_FILE)\n",
    "\n",
    "#build_ann()"
   ]
  },
  {
   "cell_type": "code",
   "execution_count": 58,
   "metadata": {},
   "outputs": [],
   "source": [
    "%%time\n",
    "\n",
    "u = AnnoyIndex(f)\n",
    "u.load(ANN_FILE) # super fast, will just mmap the file\n",
    "    \n",
    "for i in range(len(vec)):\n",
    "    nearest_neighbors.append(u.get_nns_by_item(i,200))"
   ]
  },
  {
   "cell_type": "code",
   "execution_count": 59,
   "metadata": {},
   "outputs": [],
   "source": [
    "topic_vectors = list(zip(topic_labels,nearest_neighbors))"
   ]
  },
  {
   "cell_type": "code",
   "execution_count": 62,
   "metadata": {},
   "outputs": [],
   "source": [
    "VECTORS = 'vectors.json'\n",
    "\n",
    "with open(VECTORS,'w') as f:\n",
    "    json.dump(topic_vectors,f)"
   ]
  },
  {
   "cell_type": "code",
   "execution_count": null,
   "metadata": {},
   "outputs": [],
   "source": []
  }
 ],
 "metadata": {
  "kernelspec": {
   "display_name": "Python 3",
   "language": "python",
   "name": "python3"
  },
  "language_info": {
   "codemirror_mode": {
    "name": "ipython",
    "version": 3
   },
   "file_extension": ".py",
   "mimetype": "text/x-python",
   "name": "python",
   "nbconvert_exporter": "python",
   "pygments_lexer": "ipython3",
   "version": "3.6.6"
  }
 },
 "nbformat": 4,
 "nbformat_minor": 2
}
